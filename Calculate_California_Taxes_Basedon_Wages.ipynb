import numpy as np
import pandas as pd
import matplotlib as mtl


# Define a class to Calculate Taxes for Fiscal Year 2024 based on the Entered Tax rates provided by Internal Revenue Services (IRS)
class Calculate_Taxes_FY:

   # Variable Declaration for All Tax slab percentages

   '''def __init(self)__:
      self.Percentage_1 = int(input("Enter Percentage of Income tax for Slab1 for Tax filers")) #0.01
      self.Percentage_2 = int(input("Enter Percentage of Income tax for Slab2 for Tax filers")) #0.02
      self.Percentage_3 = int(input("Enter Percentage of Income tax for Slab3 for Tax filers")) #0.04
      self.Percentage_4 = int(input("Enter Percentage of Income tax for Slab4 for Tax filers")) #0.06
      self.Percentage_5 = int(input("Enter Percentage of Income tax for Slab5 for Tax filers")) #0.08
      self.Percentage_6 = int(input("Enter Percentage of Income tax for Slab6 for Tax filers")) #0.093
      self.Percentage_7 = int(input("Enter Percentage of Income tax for Slab7 for Tax filers")) #0.103
      self.Percentage_8 = int(input("Enter Percentage of Income tax for Slab8 for Tax filers")) #0.113
      self.Percentage_9 = int(input("Enter Percentage of Income tax for Slab9 for Tax filers")) #0.123
      # Reading Employee Details for filing Taxes of FY24
      self.Salary = pd.read_csv('/Employee_Details.csv');
      return(self.Salary) '''

   def Calculate_Taxes_Singles(Salary_File,Percentage_1,Percentage_2,Percentage_3,Percentage_4,Percentage_5,Percentage_6,Percentage_7,Percentage_8,Percentage_9):

     #Variables to represent status tax slab range for distinct personal status
     Single_Taxslab_1 = int(input("Enter First Taxslab of Income tax for Single's Tax filers")) #10756#int(0+10756)
     Single_Taxslab_2 = int(input("Enter Second Taxslab of Income tax for Single's Tax filers")) #25499#int(25499-10757)
     Single_Taxslab_3 = int(input("Enter Third Taxslab of Income tax for Single's Tax filers")) #40245#int(40245-25500)
     Single_Taxslab_4 = int(input("Enter Fourth Taxslab of Income tax for Single's Tax filers")) #55866#int(55866-40246)
     Single_Taxslab_5 = int(input("Enter Fifth Taxslab of Income tax for Single's Tax filers")) #70606#int(70606-55867)
     Single_Taxslab_6 = int(input("Enter Sixth Taxslab of Income tax for Single's Tax filers")) #360659#int(360659-79606)
     Single_Taxslab_7 = int(input("Enter Seventh Taxslab of Income tax for Single's Tax filers")) #432787#int(432787-360660)
     Single_Taxslab_8 = int(input("Enter Eigth Taxslab of Income tax for Single's Tax filers")) #721314#int(721314-432788)
     Single_Taxslab_9 = int(input("Enter Last Taxslab of Income tax for Single's Tax filers"))#721315

     # calculations of Income Tax for an Employee in the Organization
     Departments = ['Tax', 'IT', 'Manufacturing Unit'];
     print("Department name\n","=================\n")
     print(Departments[1]);


     Salary = pd.array(Salary_File);
     Salary_Tax =0.0;
     i=0

     for i in range(len(Salary.Empname)):
        #for Emp in Salary.Empname:
        Employee_Name = Salary.Empname[i];
        #Display names of the employee while calculating Salary Expense for FY24
        #print(float(Salary.Salary[i]))
        if float(Salary.Salary[i] < float(Single_Taxslab_1)):
           Salary_Tax = (float(Salary.Salary[i])) * Percentage_1;
           #print((float(Salary.Salary[i])-float(Single_Taxslab_1))*0.01)
        elif float(Salary.Salary[i])>float(Single_Taxslab_1) and float(Salary.Salary[i])<float(Single_Taxslab_2):
           Salary_Tax = float(Single_Taxslab_1) * Percentage_1 + (float(Salary.Salary[i])-float(Single_Taxslab_1)) * Percentage_2;
           #print(Salary_Tax)
        elif((float(Salary.Salary[i])>float(Single_Taxslab_2)) and (float(Salary.Salary[i])<float(Single_Taxslab_3))):
           Salary_Tax = float(Single_Taxslab_1) * Percentage_1 + (float(Single_Taxslab_2)-float(Single_Taxslab_1)) * Percentage_2 + (float(Salary.Salary[i])-float(Single_Taxslab_2)) * Percentage_3;
           #print(Salary_Tax)
        elif((float(Salary.Salary[i])>float(Single_Taxslab_3)) and (float(Salary.Salary[i])<float(Single_Taxslab_4))):
           Salary_Tax = float(Single_Taxslab_1) * Percentage_1 + (float(Single_Taxslab_2)-float(Single_Taxslab_1)) * Percentage_2 + (float(Single_Taxslab_3)-float(Single_Taxslab_2)) * Percentage_3 + (float(Salary.Salary[i])-float(Single_Taxslab_3))*Percentage_4;
           #print(Salary_Tax)
        elif((float(Salary.Salary[i])>float(Single_Taxslab_4)) and (float(Salary.Salary[i])<float(Single_Taxslab_5))):
           Salary_Tax = float(Single_Taxslab_1) * Percentage_1 + (float(Single_Taxslab_2)-float(Single_Taxslab_1)) * Percentage_2+ (float(Single_Taxslab_3)-float(Single_Taxslab_2)) * Percentage_3 + (float(Single_Taxslab_4)-float(Single_Taxslab_3)) * Percentage_4 +((float(Salary.Salary[i]))-float(Single_Taxslab_4)) * Percentage_5;
           #print(Salary_Tax)
        elif((float(Salary.Salary[i])>float(Single_Taxslab_5)) and (float(Salary.Salary[i])<float(Single_Taxslab_6))):
           #print(Salary.Salary[i],"---",Single_Taxslab_1)
           Salary_Tax = float(Single_Taxslab_1) * Percentage_1 + (float(Single_Taxslab_2)-float(Single_Taxslab_1)) * Percentage_2+ (float(Single_Taxslab_3)-float(Single_Taxslab_2)) * Percentage_3 + (float(Single_Taxslab_4)-float(Single_Taxslab_3)) * Percentage_4 + (float(Single_Taxslab_5)-float(Single_Taxslab_4)) * Percentage_5 + ((float(Salary.Salary[i]))-float(Single_Taxslab_5)) * Percentage_6;
           #print(Salary_Tax)
        elif((float(Salary.Salary[i])>float(Single_Taxslab_6)) and (float(Salary.Salary[i])<float(Single_Taxslab_7))):
           Salary_Tax = float(Single_Taxslab_1) * Percentage_1 + (float(Single_Taxslab_2)-float(Single_Taxslab_1)) * Percentage_2+ (float(Single_Taxslab_3)-float(Single_Taxslab_2)) * Percentage_3 + (float(Single_Taxslab_4)-float(Single_Taxslab_3)) * Percentage_4 + (float(Single_Taxslab_5)-float(Single_Taxslab_4)) * Percentage_5 + (float(Single_Taxslab_6)-float(Single_Taxslab_5)) * Percentage_6 +((float(Salary.Salary[i]))-float(Single_Taxslab_6)) * Percentage_7;
           #print(Salary_Tax)
        elif((float(Salary.Salary[i])>float(Single_Taxslab_7)) and (float(Salary.Salary[i])<float(Single_Taxslab_8))):
           Salary_Tax = float(Single_Taxslab_1) * Percentage_1 + (float(Single_Taxslab_2)-float(Single_Taxslab_1)) * Percentage_2+ (float(Single_Taxslab_3)-float(Single_Taxslab_2)) * Percentage_3 + (float(Single_Taxslab_4)-float(Single_Taxslab_3)) * Percentage_4 + (float(Single_Taxslab_5)-float(Single_Taxslab_4)) * Percentage_5 + (float(Single_Taxslab_6)-float(Single_Taxslab_5)) * Percentage_6 + (float(Single_Taxslab_7)-float(Single_Taxslab_6)) * Percentage_7 + ((float(Salary.Salary[i]))-float(Single_Taxslab_7)) * Percentage_8;
           #print(Salary_Tax)
        else:
           Salary_Tax = float(Single_Taxslab_1) * Percentage_1 + (float(Single_Taxslab_2)-float(Single_Taxslab_1)) * Percentage_2+ (float(Single_Taxslab_3)-float(Single_Taxslab_2)) * Percentage_3 + (float(Single_Taxslab_4)-float(Single_Taxslab_3)) * Percentage_4 + (float(Single_Taxslab_5)-float(Single_Taxslab_4)) * Percentage_5 + (float(Single_Taxslab_6)-float(Single_Taxslab_5)) * Percentage_6 + (float(Single_Taxslab_7)-float(Single_Taxslab_6)) * Percentage_7 + (float(Single_Taxslab_8)-float(Single_Taxslab_7)) * Percentage_8 + ((float(Salary.Salary[i]))-float(Single_Taxslab_8)) * Percentage_9;

        print("Income tax for",f"{Employee_Name} is",Salary_Tax)

        SSN_Tax = Salary.Salary[i] * 0.062;
        OADSI_Tax = Salary.Salary[i] * 0.062;
        Healthcare_Tax = Salary.Salary[i] * 0.07;
        print("SSN Tax for",f"{Employee_Name} is", SSN_Tax)
        print("OASDI Tax for",f"{Employee_Name} is", OADSI_Tax)
        print("Healthcare Tax for",f"{Employee_Name} is",Healthcare_Tax)


   def Calculate_Taxes_Married(Salary_File,Percentage_1,Percentage_2,Percentage_3,Percentage_4,Percentage_5,Percentage_6,Percentage_7,Percentage_8,Percentage_9):

     Married_Taxslab_1 =  int(input("Enter First Taxslab of Income tax for Married Tax filers")) #21512
     Married_Taxslab_2 =  int(input("Enter Second Taxslab of Income tax for Married Tax filers")) #50990#int(50990-21513)
     Married_Taxslab_3 =  int(input("Enter Third Taxslab of Income tax for Married Tax filers")) #80490#int(80490-50991)
     Married_Taxslab_4 =  int(input("Enter Fourth Taxslab of Income tax for Married Tax filers")) #111732#int(111732-80491)
     Married_Taxslab_5 =  int(input("Enter Fifth Taxslab of Income tax for Married Tax filers")) #141212#int(141212-111733)
     Married_Taxslab_6 =  int(input("Enter Sixth Taxslab of Income tax for Married Tax filers")) #721318#int(721318-141213)
     Married_Taxslab_7 =  int(input("Enter Seventh Taxslab of Income tax for Married Tax filers")) #865574#int(865574-721319)
     Married_Taxslab_8 =  int(input("Enter Last but one Taxslab of Income tax for Married Tax filers")) #1442628#int(1442628-865575)
     Married_Taxslab_9 =  int(input("Enter Last Taxslab of Income tax for Married Tax filers")) #1442629

     Salary = pd.array(Salary_File);
     Salary_Tax =0.0;
     i=0

     for i in range(len(Salary.Empname)):
        #for Emp in Salary.Empname:
        Employee_Name = Salary.Empname[i];
        #Display names of the employee while calculating Salary Expense for FY24
        #print(float(Salary.Salary[i]))
        if float(Salary.Salary[i] < float(Married_Taxslab_1)):
           Salary_Tax = (float(Salary.Salary[i])) * Percentage_1;
           #print((float(Salary.Salary[i])-float(Single_Taxslab_1))*0.01)
        elif float(Salary.Salary[i])>float(Married_Taxslab_1) and float(Salary.Salary[i])<float(Married_Taxslab_2):
           Salary_Tax = float(Married_Taxslab_1) * Percentage_1 + (float(Salary.Salary[i])-float(Married_Taxslab_1)) * Percentage_2;
           #print(Salary_Tax)
        elif((float(Salary.Salary[i])>float(Married_Taxslab_2)) and (float(Salary.Salary[i])<float(Married_Taxslab_3))):
           Salary_Tax = float(Married_Taxslab_1) * Percentage_1 + (float(Married_Taxslab_2)-float(Married_Taxslab_1)) * Percentage_2 + (float(Salary.Salary[i])-float(Married_Taxslab_2)) * Percentage_3;
           #print(Salary_Tax)
        elif((float(Salary.Salary[i])>float(Married_Taxslab_3)) and (float(Salary.Salary[i])<float(Married_Taxslab_4))):
           Salary_Tax = float(Married_Taxslab_1) * Percentage_1 + (float(Married_Taxslab_2)-float(Married_Taxslab_1)) * Percentage_2 + (float(Married_Taxslab_3)-float(Married_Taxslab_2)) * Percentage_3 + (float(Salary.Salary[i])-float(Married_Taxslab_3))*Percentage_4;
           #print(Salary_Tax)
        elif((float(Salary.Salary[i])>float(Married_Taxslab_4)) and (float(Salary.Salary[i])<float(Married_Taxslab_5))):
           Salary_Tax = float(Married_Taxslab_1) * Percentage_1 + (float(Married_Taxslab_2)-float(Married_Taxslab_1)) * Percentage_2+ (float(Married_Taxslab_3)-float(Married_Taxslab_2)) * Percentage_3 + (float(Married_Taxslab_4)-float(Married_Taxslab_3)) * Percentage_4 +((float(Salary.Salary[i]))-float(Married_Taxslab_4)) * Percentage_5;
           #print(Salary_Tax)
        elif((float(Salary.Salary[i])>float(Married_Taxslab_5)) and (float(Salary.Salary[i])<float(Married_Taxslab_6))):
           #print(Salary.Salary[i],"---",Single_Taxslab_1)
           Salary_Tax = float(Married_Taxslab_1) * Percentage_1 + (float(Married_Taxslab_2)-float(Married_Taxslab_1)) * Percentage_2+ (float(Married_Taxslab_3)-float(Married_Taxslab_2)) * Percentage_3 + (float(Married_Taxslab_4)-float(Married_Taxslab_3)) * Percentage_4 + (float(Married_Taxslab_5)-float(Married_Taxslab_4)) * Percentage_5 + ((float(Salary.Salary[i]))-float(Married_Taxslab_5)) * Percentage_6;
           #print(Salary_Tax)
        elif((float(Salary.Salary[i])>float(Married_Taxslab_6)) and (float(Salary.Salary[i])<float(Married_Taxslab_7))):
           Salary_Tax = float(Married_Taxslab_1) * Percentage_1 + (float(Married_Taxslab_2)-float(Married_Taxslab_1)) * Percentage_2+ (float(Married_Taxslab_3)-float(Married_Taxslab_2)) * Percentage_3 + (float(Married_Taxslab_4)-float(Married_Taxslab_3)) * Percentage_4 + (float(Married_Taxslab_5)-float(Married_Taxslab_4)) * Percentage_5 + (float(Married_Taxslab_6)-float(Married_Taxslab_5)) * Percentage_6 +((float(Salary.Salary[i]))-float(Married_Taxslab_6)) * Percentage_7;
           #print(Salary_Tax)
        elif((float(Salary.Salary[i])>float(Married_Taxslab_7)) and (float(Salary.Salary[i])<float(Married_Taxslab_8))):
           Salary_Tax = float(Married_Taxslab_1) * Percentage_1 + (float(Married_Taxslab_2)-float(Married_Taxslab_1)) * Percentage_2+ (float(Married_Taxslab_3)-float(Married_Taxslab_2)) * Percentage_3 + (float(Married_Taxslab_4)-float(Married_Taxslab_3)) * Percentage_4 + (float(Married_Taxslab_5)-float(Married_Taxslab_4)) * Percentage_5 + (float(Married_Taxslab_6)-float(Married_Taxslab_5)) * Percentage_6 + (float(Married_Taxslab_7)-float(Married_Taxslab_6)) * Percentage_7 + ((float(Salary.Salary[i]))-float(Married_Taxslab_7)) * Percentage_8;
           #print(Salary_Tax)
        else:
           Salary_Tax = float(Married_Taxslab_1) * Percentage_1 + (float(Married_Taxslab_2)-float(Married_Taxslab_1)) * Percentage_2+ (float(Married_Taxslab_3)-float(Married_Taxslab_2)) * Percentage_3 + (float(Married_Taxslab_4)-float(Married_Taxslab_3)) * Percentage_4 + (float(Married_Taxslab_5)-float(Married_Taxslab_4)) * Percentage_5 + (float(Married_Taxslab_6)-float(Married_Taxslab_5)) * Percentage_6 + (float(Married_Taxslab_7)-float(Married_Taxslab_6)) * Percentage_7 + (float(Married_Taxslab_8)-float(Married_Taxslab_7)) * Percentage_8 + ((float(Salary.Salary[i]))-float(Married_Taxslab_8)) * Percentage_9;

        print("Income tax for",f"{Employee_Name} is",Salary_Tax)

        SSN_Tax = Salary.Salary[i] * 0.062;
        OADSI_Tax = Salary.Salary[i] * 0.062;
        Healthcare_Tax = Salary.Salary[i] * 0.07;
        print("SSN Tax for",f"{Employee_Name} is", SSN_Tax)
        print("OASDI Tax for",f"{Employee_Name} is", OADSI_Tax)
        print("Healthcare Tax for",f"{Employee_Name} is",Healthcare_Tax)


   def Calculate_Taxes_Household(Salary_File,Percentage_1,Percentage_2,Percentage_3,Percentage_4,Percentage_5,Percentage_6,Percentage_7,Percentage_8,Percentage_9):
      Head_Taxslab_1 =  int(input("Enter First Taxslab of Income tax for House Hold Tax filers")) #21527;
      Head_Taxslab_2 =  int(input("Enter Second Taxslab of Income tax for House Hold Tax filers")) #51000#int(51000-21528)
      Head_Taxslab_3 =  int(input("Enter Third Taxslab of Income tax for House Hold Tax filers")) #65744#int(65744-51001)
      Head_Taxslab_4 =  int(input("Enter Fourth Taxslab of Income tax for House Hold Tax filers")) #81364#int(81364-64745)
      Head_Taxslab_5 =  int(input("Enter Fifth Taxslab of Income tax for House Hold Tax filers")) #96107#int(96107-81365)
      Head_Taxslab_6 =  int(input("Enter sixth Taxslab of Income tax for House Hold Tax filers")) #490493#int(490493-96108)
      Head_Taxslab_7 =  int(input("Enter Seventh Taxslab of Income tax for House Hold Tax filers")) #588593#int(588593-490494)
      Head_Taxslab_8 =  int(input("Enter Eigth Taxslab of Income tax for House Hold Tax filers")) #980987#int(980987-588593)
      Head_Taxslab_9 =  int(input("Enter Last Taxslab of Income tax for House Hold Tax filers"))#980988

      # Instantiation of Object for Calculate Taxes class
      # The following process creates an object to the class Calculate_Taxes_FY

      Salary = pd.array(Salary_File);
      Salary_Tax =0.0;
      i=0

      for i in range(len(Salary.Empname)):
         #for Emp in Salary.Empname:
         Employee_Name = Salary.Empname[i];
         #Display names of the employee while calculating Salary Expense for FY24
         #print(float(Salary.Salary[i]))
         if float(Salary.Salary[i] < float(Head_Taxslab_1)):
            Salary_Tax = (float(Salary.Salary[i])) * Percentage_1;
            #print((float(Salary.Salary[i])-float(Single_Taxslab_1))*0.01)
         elif float(Salary.Salary[i])>float(Head_Taxslab_1) and float(Salary.Salary[i])<float(Head_Taxslab_2):
            Salary_Tax = float(Head_Taxslab_1) * Percentage_1 + (float(Salary.Salary[i])-float(Head_Taxslab_1)) * Percentage_2;
            #print(Salary_Tax)
         elif((float(Salary.Salary[i])>float(Head_Taxslab_2)) and (float(Salary.Salary[i])<float(Head_Taxslab_3))):
            Salary_Tax = float(Head_Taxslab_1) * Percentage_1 + (float(Head_Taxslab_2)-float(Head_Taxslab_1)) * Percentage_2 + (float(Salary.Salary[i])-float(Head_Taxslab_2)) * Percentage_3;
            #print(Salary_Tax)
         elif((float(Salary.Salary[i])>float(Head_Taxslab_3)) and (float(Salary.Salary[i])<float(Head_Taxslab_4))):
            Salary_Tax = float(Head_Taxslab_1) * Percentage_1 + (float(Head_Taxslab_2)-float(Head_Taxslab_1)) * Percentage_2 + (float(Head_Taxslab_3)-float(Head_Taxslab_2)) * Percentage_3 + (float(Salary.Salary[i])-float(Head_Taxslab_3))*Percentage_4;
            #print(Salary_Tax)
         elif((float(Salary.Salary[i])>float(Head_Taxslab_4)) and (float(Salary.Salary[i])<float(Head_Taxslab_5))):
            Salary_Tax = float(Head_Taxslab_1) * Percentage_1 + (float(Head_Taxslab_2)-float(Head_Taxslab_1)) * Percentage_2+ (float(Head_Taxslab_3)-float(Head_Taxslab_2)) * Percentage_3 + (float(Head_Taxslab_4)-float(Head_Taxslab_3)) * Percentage_4 +((float(Salary.Salary[i]))-float(Head_Taxslab_4)) * Percentage_5;
            #print(Salary_Tax)
         elif((float(Salary.Salary[i])>float(Head_Taxslab_5)) and (float(Salary.Salary[i])<float(Head_Taxslab_6))):
            #print(Salary.Salary[i],"---",Single_Taxslab_1)
            Salary_Tax = float(Head_Taxslab_1) * Percentage_1 + (float(Head_Taxslab_2)-float(Head_Taxslab_1)) * Percentage_2+ (float(Head_Taxslab_3)-float(Head_Taxslab_2)) * Percentage_3 + (float(Head_Taxslab_4)-float(Head_Taxslab_3)) * Percentage_4 + (float(Head_Taxslab_5)-float(Head_Taxslab_4)) * Percentage_5 + ((float(Salary.Salary[i]))-float(Head_Taxslab_5)) * Percentage_6;
            #print(Salary_Tax)
         elif((float(Salary.Salary[i])>float(Head_Taxslab_6)) and (float(Salary.Salary[i])<float(Head_Taxslab_7))):
            Salary_Tax = float(Head_Taxslab_1) * Percentage_1 + (float(Head_Taxslab_2)-float(Head_Taxslab_1)) * Percentage_2+ (float(Head_Taxslab_3)-float(Head_Taxslab_2)) * Percentage_3 + (float(Head_Taxslab_4)-float(Head_Taxslab_3)) * Percentage_4 + (float(Head_Taxslab_5)-float(Head_Taxslab_4)) * Percentage_5 + (float(Head_Taxslab_6)-float(Head_Taxslab_5)) * Percentage_6 +((float(Salary.Salary[i]))-float(Head_Taxslab_6)) * Percentage_7;
            #print(Salary_Tax)
         elif((float(Salary.Salary[i])>float(Head_Taxslab_7)) and (float(Salary.Salary[i])<float(Head_Taxslab_8))):
            Salary_Tax = float(Head_Taxslab_1) * Percentage_1 + (float(Head_Taxslab_2)-float(Head_Taxslab_1)) * Percentage_2+ (float(Head_Taxslab_3)-float(Head_Taxslab_2)) * Percentage_3 + (float(Head_Taxslab_4)-float(Head_Taxslab_3)) * Percentage_4 + (float(Head_Taxslab_5)-float(Head_Taxslab_4)) * Percentage_5 + (float(Head_Taxslab_6)-float(Head_Taxslab_5)) * Percentage_6 + (float(Head_Taxslab_7)-float(Head_Taxslab_6)) * Percentage_7 + ((float(Salary.Salary[i]))-float(Head_Taxslab_7)) * Percentage_8;
            #print(Salary_Tax)
         else:
            Salary_Tax = float(Head_Taxslab_1) * Percentage_1 + (float(Head_Taxslab_2)-float(Head_Taxslab_1)) * Percentage_2+ (float(Head_Taxslab_3)-float(Head_Taxslab_2)) * Percentage_3 + (float(Head_Taxslab_4)-float(Head_Taxslab_3)) * Percentage_4 + (float(Head_Taxslab_5)-float(Head_Taxslab_4)) * Percentage_5 + (float(Head_Taxslab_6)-float(Head_Taxslab_5)) * Percentage_6 + (float(Head_Taxslab_7)-float(Head_Taxslab_6)) * Percentage_7 + (float(Head_Taxslab_8)-float(Head_Taxslab_7)) * Percentage_8 + ((float(Salary.Salary[i]))-float(Head_Taxslab_8)) * Percentage_9;

         print("Income tax for",f"{Employee_Name} is",Salary_Tax)

         SSN_Tax = Salary.Salary[i] * 0.062;
         OADSI_Tax = Salary.Salary[i] * 0.062;
         Healthcare_Tax = Salary.Salary[i] * 0.07;
         print("SSN Tax for",f"{Employee_Name} is", SSN_Tax)
         print("OASDI Tax for",f"{Employee_Name} is", OADSI_Tax)           
         print("Healthcare Tax for",f"{Employee_Name} is",Healthcare_Tax)



Percentage_1 = float(input("Enter Percentage of Income tax for Slab1 for Tax filers"))
Percentage_2 = float(input("Enter Percentage of Income tax for Slab2 for Tax filers"))
Percentage_3 = float(input("Enter Percentage of Income tax for Slab3 for Tax filers"))
Percentage_4 = float(input("Enter Percentage of Income tax for Slab4 for Tax filers"))
Percentage_5 = float(input("Enter Percentage of Income tax for Slab5 for Tax filers"))
Percentage_6 = float(input("Enter Percentage of Income tax for Slab6 for Tax filers"))
Percentage_7 = float(input("Enter Percentage of Income tax for Slab7 for Tax filers"))
Percentage_8 = float(input("Enter Percentage of Income tax for Slab8 for Tax filers"))
Percentage_9 = float(input("Enter Percentage of Income tax for Slab9 for Tax filers"))

Salary_File = pd.read_csv('/content/sample_data/Employee_Details.csv');

Calculate_Taxes = Calculate_Taxes_FY();

Calculate_Taxes.Calculate_Taxes_Singles(Salary_File,Percentage_1,Percentage_2,Percentage_3,Percentage_4,Percentage_5,Percentage_6,Percentage_7,Percentage_8,Percentage_9);

Calculate_Taxes.Calculate_Taxes_Married(Salary_File,Percentage_1,Percentage_2,Percentage_3,Percentage_4,Percentage_5,Percentage_6,Percentage_7,Percentage_8,Percentage_9);

Calculate_Taxes.Calculate_Taxes_Household(Salary_File,Percentage_1,Percentage_2,Percentage_3,Percentage_4,Percentage_5,Percentage_6,Percentage_7,Percentage_8,Percentage_9);
#Calculate_Taxes.Calculate_Taxes_Singles
